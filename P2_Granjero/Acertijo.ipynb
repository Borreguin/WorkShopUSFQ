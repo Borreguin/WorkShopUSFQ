{
 "cells": [
  {
   "metadata": {},
   "cell_type": "markdown",
   "source": [
    "### Descripción del problema:\n",
    "##### Un\tdía,\tun\tgranjero\tfue\tal\tmercado\ty\tcompró\tun\tlobo,\tuna\tcabra\ty\tuna\tcol. Para\tvolver\ta su\tcasa\ttenía\tque\tcruzar\tun\trío.\tEl\tgranjero\tdispone\tde\tuna\tbarca\tpara\tcruzar\ta\tla\totra orilla,\tpero\ten\tla\tbarca\tsolo\tcaben\tél\ty\tuna de\tsus\tcompras.\n"
   ]
  },
  {
   "cell_type": "code",
   "metadata": {
    "ExecuteTime": {
     "end_time": "2024-09-21T16:39:26.028354Z",
     "start_time": "2024-09-21T16:39:26.023829Z"
    }
   },
   "source": [
    "from collections import deque\n",
    "import networkx as nx\n",
    "import matplotlib.pyplot as plt"
   ],
   "outputs": [],
   "execution_count": 19
  },
  {
   "metadata": {},
   "cell_type": "markdown",
   "source": "#### Definición de estado inicial y estado final "
  },
  {
   "cell_type": "code",
   "metadata": {
    "ExecuteTime": {
     "end_time": "2024-09-21T15:54:26.750513Z",
     "start_time": "2024-09-21T15:54:26.745430Z"
    }
   },
   "source": [
    "# Estado inicial: todos están en la Orilla inicial\n",
    "estado_inicial = (0, 0, 0, 0)"
   ],
   "outputs": [],
   "execution_count": 5
  },
  {
   "cell_type": "code",
   "metadata": {
    "ExecuteTime": {
     "end_time": "2024-09-21T15:54:27.712864Z",
     "start_time": "2024-09-21T15:54:27.709381Z"
    }
   },
   "source": [
    "# Estado objetivo: todos están en la Orilla final\n",
    "estado_objetivo = (1, 1, 1, 1)"
   ],
   "outputs": [],
   "execution_count": 6
  },
  {
   "metadata": {},
   "cell_type": "markdown",
   "source": "#### Definición de restricciones para la resolución del acertijo"
  },
  {
   "cell_type": "code",
   "metadata": {
    "ExecuteTime": {
     "end_time": "2024-09-21T15:54:28.579849Z",
     "start_time": "2024-09-21T15:54:28.574745Z"
    }
   },
   "source": [
    "# Validar si el estado es seguro\n",
    "def es_valido(estado):\n",
    "    granjero, lobo, cabra, col = estado\n",
    "    # El lobo no puede quedarse solo con la cabra\n",
    "    if granjero != cabra and lobo == cabra:\n",
    "        return False\n",
    "    # La cabra no puede quedarse sola con la col\n",
    "    if granjero != cabra and cabra == col:\n",
    "        return False\n",
    "    return True"
   ],
   "outputs": [],
   "execution_count": 7
  },
  {
   "metadata": {},
   "cell_type": "markdown",
   "source": "#### Definición de movimientos posibles"
  },
  {
   "cell_type": "code",
   "metadata": {
    "ExecuteTime": {
     "end_time": "2024-09-21T15:54:29.856705Z",
     "start_time": "2024-09-21T15:54:29.847518Z"
    }
   },
   "source": [
    "# Generar los estados sucesores posibles\n",
    "def obtener_sucesores(estado):\n",
    "    granjero, lobo, cabra, col = estado\n",
    "    sucesores = []\n",
    "\n",
    "    # El granjero cruza solo\n",
    "    nuevo_estado = (1 - granjero, lobo, cabra, col)\n",
    "    if es_valido(nuevo_estado):\n",
    "        sucesores.append(nuevo_estado)\n",
    "\n",
    "    # El granjero lleva al lobo\n",
    "    if granjero == lobo:\n",
    "        nuevo_estado = (1 - granjero, 1 - lobo, cabra, col)\n",
    "        if es_valido(nuevo_estado):\n",
    "            sucesores.append(nuevo_estado)\n",
    "\n",
    "    # El granjero lleva a la cabra\n",
    "    if granjero == cabra:\n",
    "        nuevo_estado = (1 - granjero, lobo, 1 - cabra, col)\n",
    "        if es_valido(nuevo_estado):\n",
    "            sucesores.append(nuevo_estado)\n",
    "\n",
    "    # El granjero lleva la col\n",
    "    if granjero == col:\n",
    "        nuevo_estado = (1 - granjero, lobo, cabra, 1 - col)\n",
    "        if es_valido(nuevo_estado):\n",
    "            sucesores.append(nuevo_estado)\n",
    "\n",
    "    return sucesores"
   ],
   "outputs": [],
   "execution_count": 8
  },
  {
   "metadata": {},
   "cell_type": "markdown",
   "source": "#### Ejecución d ealgoritmo BFS y almacenamiento de escenarios evaluados"
  },
  {
   "cell_type": "code",
   "metadata": {
    "ExecuteTime": {
     "end_time": "2024-09-21T15:54:30.946662Z",
     "start_time": "2024-09-21T15:54:30.940176Z"
    }
   },
   "source": [
    "# Búsqueda en anchura (BFS) para encontrar la solución más corta\n",
    "def bfs():\n",
    "    cola = deque([(estado_inicial, [])])\n",
    "    visitados = set()\n",
    "    paso = 0  # Contador de pasos\n",
    "\n",
    "    while cola:\n",
    "        # Imprimir el contenido de la cola en cada paso\n",
    "        print(f\"Paso {paso}: Contenido de la cola: {list(cola)}\")\n",
    "        \n",
    "        estado_actual, camino = cola.popleft()\n",
    "\n",
    "        # Imprimir el estado actual que se está procesando\n",
    "        print(f\"Procesando estado actual: Granjero: {estado_actual[0]}, Lobo: {estado_actual[1]}, Cabra: {estado_actual[2]}, Col: {estado_actual[3]}\")\n",
    "\n",
    "        # Verificar si se ha alcanzado el estado objetivo\n",
    "        if estado_actual == estado_objetivo:\n",
    "            print(f\"¡Se ha encontrado la solución en el paso {paso}!\")\n",
    "            return camino + [estado_actual]\n",
    "\n",
    "        # Saltar los estados ya visitados\n",
    "        if estado_actual in visitados:\n",
    "            print(f\"Estado ya visitado: {estado_actual}\")\n",
    "            continue\n",
    "\n",
    "        # Marcar el estado actual como visitado\n",
    "        visitados.add(estado_actual)\n",
    "\n",
    "        # Obtener los sucesores\n",
    "        sucesores = obtener_sucesores(estado_actual)\n",
    "        print(f\"Sucesores generados: {sucesores}\")\n",
    "\n",
    "        # Añadir los sucesores a la cola\n",
    "        for sucesor in sucesores:\n",
    "            cola.append((sucesor, camino + [estado_actual]))\n",
    "\n",
    "        # Incrementar el paso para el siguiente ciclo\n",
    "        paso += 1\n"
   ],
   "outputs": [],
   "execution_count": 9
  },
  {
   "metadata": {},
   "cell_type": "markdown",
   "source": "#### Visualización de escenarios evaluados"
  },
  {
   "cell_type": "code",
   "metadata": {
    "ExecuteTime": {
     "end_time": "2024-09-21T15:54:32.405287Z",
     "start_time": "2024-09-21T15:54:32.399343Z"
    }
   },
   "source": [
    "# Ejecutar BFS para encontrar la solución\n",
    "solucion = bfs()"
   ],
   "outputs": [
    {
     "name": "stdout",
     "output_type": "stream",
     "text": [
      "Paso 0: Contenido de la cola: [((0, 0, 0, 0), [])]\n",
      "Procesando estado actual: Granjero: 0, Lobo: 0, Cabra: 0, Col: 0\n",
      "Sucesores generados: [(1, 0, 1, 0)]\n",
      "Paso 1: Contenido de la cola: [((1, 0, 1, 0), [(0, 0, 0, 0)])]\n",
      "Procesando estado actual: Granjero: 1, Lobo: 0, Cabra: 1, Col: 0\n",
      "Sucesores generados: [(0, 0, 1, 0), (0, 0, 0, 0)]\n",
      "Paso 2: Contenido de la cola: [((0, 0, 1, 0), [(0, 0, 0, 0), (1, 0, 1, 0)]), ((0, 0, 0, 0), [(0, 0, 0, 0), (1, 0, 1, 0)])]\n",
      "Procesando estado actual: Granjero: 0, Lobo: 0, Cabra: 1, Col: 0\n",
      "Sucesores generados: [(1, 0, 1, 0), (1, 1, 1, 0), (1, 0, 1, 1)]\n",
      "Paso 3: Contenido de la cola: [((0, 0, 0, 0), [(0, 0, 0, 0), (1, 0, 1, 0)]), ((1, 0, 1, 0), [(0, 0, 0, 0), (1, 0, 1, 0), (0, 0, 1, 0)]), ((1, 1, 1, 0), [(0, 0, 0, 0), (1, 0, 1, 0), (0, 0, 1, 0)]), ((1, 0, 1, 1), [(0, 0, 0, 0), (1, 0, 1, 0), (0, 0, 1, 0)])]\n",
      "Procesando estado actual: Granjero: 0, Lobo: 0, Cabra: 0, Col: 0\n",
      "Estado ya visitado: (0, 0, 0, 0)\n",
      "Paso 3: Contenido de la cola: [((1, 0, 1, 0), [(0, 0, 0, 0), (1, 0, 1, 0), (0, 0, 1, 0)]), ((1, 1, 1, 0), [(0, 0, 0, 0), (1, 0, 1, 0), (0, 0, 1, 0)]), ((1, 0, 1, 1), [(0, 0, 0, 0), (1, 0, 1, 0), (0, 0, 1, 0)])]\n",
      "Procesando estado actual: Granjero: 1, Lobo: 0, Cabra: 1, Col: 0\n",
      "Estado ya visitado: (1, 0, 1, 0)\n",
      "Paso 3: Contenido de la cola: [((1, 1, 1, 0), [(0, 0, 0, 0), (1, 0, 1, 0), (0, 0, 1, 0)]), ((1, 0, 1, 1), [(0, 0, 0, 0), (1, 0, 1, 0), (0, 0, 1, 0)])]\n",
      "Procesando estado actual: Granjero: 1, Lobo: 1, Cabra: 1, Col: 0\n",
      "Sucesores generados: [(0, 0, 1, 0), (0, 1, 0, 0)]\n",
      "Paso 4: Contenido de la cola: [((1, 0, 1, 1), [(0, 0, 0, 0), (1, 0, 1, 0), (0, 0, 1, 0)]), ((0, 0, 1, 0), [(0, 0, 0, 0), (1, 0, 1, 0), (0, 0, 1, 0), (1, 1, 1, 0)]), ((0, 1, 0, 0), [(0, 0, 0, 0), (1, 0, 1, 0), (0, 0, 1, 0), (1, 1, 1, 0)])]\n",
      "Procesando estado actual: Granjero: 1, Lobo: 0, Cabra: 1, Col: 1\n",
      "Sucesores generados: [(0, 0, 0, 1), (0, 0, 1, 0)]\n",
      "Paso 5: Contenido de la cola: [((0, 0, 1, 0), [(0, 0, 0, 0), (1, 0, 1, 0), (0, 0, 1, 0), (1, 1, 1, 0)]), ((0, 1, 0, 0), [(0, 0, 0, 0), (1, 0, 1, 0), (0, 0, 1, 0), (1, 1, 1, 0)]), ((0, 0, 0, 1), [(0, 0, 0, 0), (1, 0, 1, 0), (0, 0, 1, 0), (1, 0, 1, 1)]), ((0, 0, 1, 0), [(0, 0, 0, 0), (1, 0, 1, 0), (0, 0, 1, 0), (1, 0, 1, 1)])]\n",
      "Procesando estado actual: Granjero: 0, Lobo: 0, Cabra: 1, Col: 0\n",
      "Estado ya visitado: (0, 0, 1, 0)\n",
      "Paso 5: Contenido de la cola: [((0, 1, 0, 0), [(0, 0, 0, 0), (1, 0, 1, 0), (0, 0, 1, 0), (1, 1, 1, 0)]), ((0, 0, 0, 1), [(0, 0, 0, 0), (1, 0, 1, 0), (0, 0, 1, 0), (1, 0, 1, 1)]), ((0, 0, 1, 0), [(0, 0, 0, 0), (1, 0, 1, 0), (0, 0, 1, 0), (1, 0, 1, 1)])]\n",
      "Procesando estado actual: Granjero: 0, Lobo: 1, Cabra: 0, Col: 0\n",
      "Sucesores generados: [(1, 1, 1, 0), (1, 1, 0, 1)]\n",
      "Paso 6: Contenido de la cola: [((0, 0, 0, 1), [(0, 0, 0, 0), (1, 0, 1, 0), (0, 0, 1, 0), (1, 0, 1, 1)]), ((0, 0, 1, 0), [(0, 0, 0, 0), (1, 0, 1, 0), (0, 0, 1, 0), (1, 0, 1, 1)]), ((1, 1, 1, 0), [(0, 0, 0, 0), (1, 0, 1, 0), (0, 0, 1, 0), (1, 1, 1, 0), (0, 1, 0, 0)]), ((1, 1, 0, 1), [(0, 0, 0, 0), (1, 0, 1, 0), (0, 0, 1, 0), (1, 1, 1, 0), (0, 1, 0, 0)])]\n",
      "Procesando estado actual: Granjero: 0, Lobo: 0, Cabra: 0, Col: 1\n",
      "Sucesores generados: [(1, 1, 0, 1), (1, 0, 1, 1)]\n",
      "Paso 7: Contenido de la cola: [((0, 0, 1, 0), [(0, 0, 0, 0), (1, 0, 1, 0), (0, 0, 1, 0), (1, 0, 1, 1)]), ((1, 1, 1, 0), [(0, 0, 0, 0), (1, 0, 1, 0), (0, 0, 1, 0), (1, 1, 1, 0), (0, 1, 0, 0)]), ((1, 1, 0, 1), [(0, 0, 0, 0), (1, 0, 1, 0), (0, 0, 1, 0), (1, 1, 1, 0), (0, 1, 0, 0)]), ((1, 1, 0, 1), [(0, 0, 0, 0), (1, 0, 1, 0), (0, 0, 1, 0), (1, 0, 1, 1), (0, 0, 0, 1)]), ((1, 0, 1, 1), [(0, 0, 0, 0), (1, 0, 1, 0), (0, 0, 1, 0), (1, 0, 1, 1), (0, 0, 0, 1)])]\n",
      "Procesando estado actual: Granjero: 0, Lobo: 0, Cabra: 1, Col: 0\n",
      "Estado ya visitado: (0, 0, 1, 0)\n",
      "Paso 7: Contenido de la cola: [((1, 1, 1, 0), [(0, 0, 0, 0), (1, 0, 1, 0), (0, 0, 1, 0), (1, 1, 1, 0), (0, 1, 0, 0)]), ((1, 1, 0, 1), [(0, 0, 0, 0), (1, 0, 1, 0), (0, 0, 1, 0), (1, 1, 1, 0), (0, 1, 0, 0)]), ((1, 1, 0, 1), [(0, 0, 0, 0), (1, 0, 1, 0), (0, 0, 1, 0), (1, 0, 1, 1), (0, 0, 0, 1)]), ((1, 0, 1, 1), [(0, 0, 0, 0), (1, 0, 1, 0), (0, 0, 1, 0), (1, 0, 1, 1), (0, 0, 0, 1)])]\n",
      "Procesando estado actual: Granjero: 1, Lobo: 1, Cabra: 1, Col: 0\n",
      "Estado ya visitado: (1, 1, 1, 0)\n",
      "Paso 7: Contenido de la cola: [((1, 1, 0, 1), [(0, 0, 0, 0), (1, 0, 1, 0), (0, 0, 1, 0), (1, 1, 1, 0), (0, 1, 0, 0)]), ((1, 1, 0, 1), [(0, 0, 0, 0), (1, 0, 1, 0), (0, 0, 1, 0), (1, 0, 1, 1), (0, 0, 0, 1)]), ((1, 0, 1, 1), [(0, 0, 0, 0), (1, 0, 1, 0), (0, 0, 1, 0), (1, 0, 1, 1), (0, 0, 0, 1)])]\n",
      "Procesando estado actual: Granjero: 1, Lobo: 1, Cabra: 0, Col: 1\n",
      "Sucesores generados: [(0, 1, 0, 1), (0, 0, 0, 1), (0, 1, 0, 0)]\n",
      "Paso 8: Contenido de la cola: [((1, 1, 0, 1), [(0, 0, 0, 0), (1, 0, 1, 0), (0, 0, 1, 0), (1, 0, 1, 1), (0, 0, 0, 1)]), ((1, 0, 1, 1), [(0, 0, 0, 0), (1, 0, 1, 0), (0, 0, 1, 0), (1, 0, 1, 1), (0, 0, 0, 1)]), ((0, 1, 0, 1), [(0, 0, 0, 0), (1, 0, 1, 0), (0, 0, 1, 0), (1, 1, 1, 0), (0, 1, 0, 0), (1, 1, 0, 1)]), ((0, 0, 0, 1), [(0, 0, 0, 0), (1, 0, 1, 0), (0, 0, 1, 0), (1, 1, 1, 0), (0, 1, 0, 0), (1, 1, 0, 1)]), ((0, 1, 0, 0), [(0, 0, 0, 0), (1, 0, 1, 0), (0, 0, 1, 0), (1, 1, 1, 0), (0, 1, 0, 0), (1, 1, 0, 1)])]\n",
      "Procesando estado actual: Granjero: 1, Lobo: 1, Cabra: 0, Col: 1\n",
      "Estado ya visitado: (1, 1, 0, 1)\n",
      "Paso 8: Contenido de la cola: [((1, 0, 1, 1), [(0, 0, 0, 0), (1, 0, 1, 0), (0, 0, 1, 0), (1, 0, 1, 1), (0, 0, 0, 1)]), ((0, 1, 0, 1), [(0, 0, 0, 0), (1, 0, 1, 0), (0, 0, 1, 0), (1, 1, 1, 0), (0, 1, 0, 0), (1, 1, 0, 1)]), ((0, 0, 0, 1), [(0, 0, 0, 0), (1, 0, 1, 0), (0, 0, 1, 0), (1, 1, 1, 0), (0, 1, 0, 0), (1, 1, 0, 1)]), ((0, 1, 0, 0), [(0, 0, 0, 0), (1, 0, 1, 0), (0, 0, 1, 0), (1, 1, 1, 0), (0, 1, 0, 0), (1, 1, 0, 1)])]\n",
      "Procesando estado actual: Granjero: 1, Lobo: 0, Cabra: 1, Col: 1\n",
      "Estado ya visitado: (1, 0, 1, 1)\n",
      "Paso 8: Contenido de la cola: [((0, 1, 0, 1), [(0, 0, 0, 0), (1, 0, 1, 0), (0, 0, 1, 0), (1, 1, 1, 0), (0, 1, 0, 0), (1, 1, 0, 1)]), ((0, 0, 0, 1), [(0, 0, 0, 0), (1, 0, 1, 0), (0, 0, 1, 0), (1, 1, 1, 0), (0, 1, 0, 0), (1, 1, 0, 1)]), ((0, 1, 0, 0), [(0, 0, 0, 0), (1, 0, 1, 0), (0, 0, 1, 0), (1, 1, 1, 0), (0, 1, 0, 0), (1, 1, 0, 1)])]\n",
      "Procesando estado actual: Granjero: 0, Lobo: 1, Cabra: 0, Col: 1\n",
      "Sucesores generados: [(1, 1, 0, 1), (1, 1, 1, 1)]\n",
      "Paso 9: Contenido de la cola: [((0, 0, 0, 1), [(0, 0, 0, 0), (1, 0, 1, 0), (0, 0, 1, 0), (1, 1, 1, 0), (0, 1, 0, 0), (1, 1, 0, 1)]), ((0, 1, 0, 0), [(0, 0, 0, 0), (1, 0, 1, 0), (0, 0, 1, 0), (1, 1, 1, 0), (0, 1, 0, 0), (1, 1, 0, 1)]), ((1, 1, 0, 1), [(0, 0, 0, 0), (1, 0, 1, 0), (0, 0, 1, 0), (1, 1, 1, 0), (0, 1, 0, 0), (1, 1, 0, 1), (0, 1, 0, 1)]), ((1, 1, 1, 1), [(0, 0, 0, 0), (1, 0, 1, 0), (0, 0, 1, 0), (1, 1, 1, 0), (0, 1, 0, 0), (1, 1, 0, 1), (0, 1, 0, 1)])]\n",
      "Procesando estado actual: Granjero: 0, Lobo: 0, Cabra: 0, Col: 1\n",
      "Estado ya visitado: (0, 0, 0, 1)\n",
      "Paso 9: Contenido de la cola: [((0, 1, 0, 0), [(0, 0, 0, 0), (1, 0, 1, 0), (0, 0, 1, 0), (1, 1, 1, 0), (0, 1, 0, 0), (1, 1, 0, 1)]), ((1, 1, 0, 1), [(0, 0, 0, 0), (1, 0, 1, 0), (0, 0, 1, 0), (1, 1, 1, 0), (0, 1, 0, 0), (1, 1, 0, 1), (0, 1, 0, 1)]), ((1, 1, 1, 1), [(0, 0, 0, 0), (1, 0, 1, 0), (0, 0, 1, 0), (1, 1, 1, 0), (0, 1, 0, 0), (1, 1, 0, 1), (0, 1, 0, 1)])]\n",
      "Procesando estado actual: Granjero: 0, Lobo: 1, Cabra: 0, Col: 0\n",
      "Estado ya visitado: (0, 1, 0, 0)\n",
      "Paso 9: Contenido de la cola: [((1, 1, 0, 1), [(0, 0, 0, 0), (1, 0, 1, 0), (0, 0, 1, 0), (1, 1, 1, 0), (0, 1, 0, 0), (1, 1, 0, 1), (0, 1, 0, 1)]), ((1, 1, 1, 1), [(0, 0, 0, 0), (1, 0, 1, 0), (0, 0, 1, 0), (1, 1, 1, 0), (0, 1, 0, 0), (1, 1, 0, 1), (0, 1, 0, 1)])]\n",
      "Procesando estado actual: Granjero: 1, Lobo: 1, Cabra: 0, Col: 1\n",
      "Estado ya visitado: (1, 1, 0, 1)\n",
      "Paso 9: Contenido de la cola: [((1, 1, 1, 1), [(0, 0, 0, 0), (1, 0, 1, 0), (0, 0, 1, 0), (1, 1, 1, 0), (0, 1, 0, 0), (1, 1, 0, 1), (0, 1, 0, 1)])]\n",
      "Procesando estado actual: Granjero: 1, Lobo: 1, Cabra: 1, Col: 1\n",
      "¡Se ha encontrado la solución en el paso 9!\n"
     ]
    }
   ],
   "execution_count": 10
  },
  {
   "metadata": {},
   "cell_type": "markdown",
   "source": "#### Sección para imprimir etiquetas con la resolución del algoritmo"
  },
  {
   "cell_type": "code",
   "metadata": {
    "ExecuteTime": {
     "end_time": "2024-09-21T15:54:33.325872Z",
     "start_time": "2024-09-21T15:54:33.320570Z"
    }
   },
   "source": [
    "# Función para describir la posición de cada elemento\n",
    "def describir_posicion(valor):\n",
    "    return \"Orilla inicial\" if valor == 0 else \"Orilla final\""
   ],
   "outputs": [],
   "execution_count": 11
  },
  {
   "cell_type": "code",
   "metadata": {
    "ExecuteTime": {
     "end_time": "2024-09-21T15:54:34.590164Z",
     "start_time": "2024-09-21T15:54:34.584393Z"
    }
   },
   "source": [
    "# Función para describir quién cruza en cada paso\n",
    "def describir_movimiento(estado_anterior, estado_actual):\n",
    "    granjero_anterior, lobo_anterior, cabra_anterior, col_anterior = estado_anterior\n",
    "    granjero_actual, lobo_actual, cabra_actual, col_actual = estado_actual\n",
    "\n",
    "    if granjero_anterior != granjero_actual:\n",
    "        if lobo_anterior != lobo_actual:\n",
    "            return \"El granjero cruza con el lobo\"\n",
    "        elif cabra_anterior != cabra_actual:\n",
    "            return \"El granjero cruza con la cabra\"\n",
    "        elif col_anterior != col_actual:\n",
    "            return \"El granjero cruza con la col\"\n",
    "        else:\n",
    "            return \"El granjero cruza solo\"\n",
    "    return \"\""
   ],
   "outputs": [],
   "execution_count": 12
  },
  {
   "cell_type": "code",
   "metadata": {
    "ExecuteTime": {
     "end_time": "2024-09-21T15:54:35.645018Z",
     "start_time": "2024-09-21T15:54:35.637922Z"
    }
   },
   "source": [
    "# Función para imprimir el resultado paso a paso de manera clara\n",
    "def imprimir_solucion(solucion):\n",
    "    for i, estado in enumerate(solucion):\n",
    "        granjero, lobo, cabra, col = estado\n",
    "        \n",
    "        if i == 0:\n",
    "            print(f\"Paso {i}: Inicio -> Todos están en la orilla inicial.\")\n",
    "        else:\n",
    "            estado_anterior = solucion[i-1]\n",
    "            movimiento = describir_movimiento(estado_anterior, estado)\n",
    "            print(f\"Paso {i}: {movimiento}\")\n",
    "        \n",
    "        print(f\"  Granjero: {describir_posicion(granjero)}\")\n",
    "        print(f\"  Lobo: {describir_posicion(lobo)}\")\n",
    "        print(f\"  Cabra: {describir_posicion(cabra)}\")\n",
    "        print(f\"  Col: {describir_posicion(col)}\")\n",
    "        print(\"\")\n"
   ],
   "outputs": [],
   "execution_count": 13
  },
  {
   "cell_type": "code",
   "metadata": {
    "ExecuteTime": {
     "end_time": "2024-09-21T15:54:36.816015Z",
     "start_time": "2024-09-21T15:54:36.810405Z"
    }
   },
   "source": [
    "# Ejecutar la función\n",
    "imprimir_solucion(solucion)"
   ],
   "outputs": [
    {
     "name": "stdout",
     "output_type": "stream",
     "text": [
      "Paso 0: Inicio -> Todos están en la orilla inicial.\n",
      "  Granjero: Orilla inicial\n",
      "  Lobo: Orilla inicial\n",
      "  Cabra: Orilla inicial\n",
      "  Col: Orilla inicial\n",
      "\n",
      "Paso 1: El granjero cruza con la cabra\n",
      "  Granjero: Orilla final\n",
      "  Lobo: Orilla inicial\n",
      "  Cabra: Orilla final\n",
      "  Col: Orilla inicial\n",
      "\n",
      "Paso 2: El granjero cruza solo\n",
      "  Granjero: Orilla inicial\n",
      "  Lobo: Orilla inicial\n",
      "  Cabra: Orilla final\n",
      "  Col: Orilla inicial\n",
      "\n",
      "Paso 3: El granjero cruza con el lobo\n",
      "  Granjero: Orilla final\n",
      "  Lobo: Orilla final\n",
      "  Cabra: Orilla final\n",
      "  Col: Orilla inicial\n",
      "\n",
      "Paso 4: El granjero cruza con la cabra\n",
      "  Granjero: Orilla inicial\n",
      "  Lobo: Orilla final\n",
      "  Cabra: Orilla inicial\n",
      "  Col: Orilla inicial\n",
      "\n",
      "Paso 5: El granjero cruza con la col\n",
      "  Granjero: Orilla final\n",
      "  Lobo: Orilla final\n",
      "  Cabra: Orilla inicial\n",
      "  Col: Orilla final\n",
      "\n",
      "Paso 6: El granjero cruza solo\n",
      "  Granjero: Orilla inicial\n",
      "  Lobo: Orilla final\n",
      "  Cabra: Orilla inicial\n",
      "  Col: Orilla final\n",
      "\n",
      "Paso 7: El granjero cruza con la cabra\n",
      "  Granjero: Orilla final\n",
      "  Lobo: Orilla final\n",
      "  Cabra: Orilla final\n",
      "  Col: Orilla final\n",
      "\n"
     ]
    }
   ],
   "execution_count": 14
  },
  {
   "metadata": {},
   "cell_type": "markdown",
   "source": "#### Generación de grafo"
  },
  {
   "cell_type": "code",
   "metadata": {
    "ExecuteTime": {
     "end_time": "2024-09-21T15:54:41.087063Z",
     "start_time": "2024-09-21T15:54:41.082727Z"
    }
   },
   "source": [
    "# Crear un grafo dirigido\n",
    "G = nx.DiGraph()"
   ],
   "outputs": [],
   "execution_count": 15
  },
  {
   "cell_type": "code",
   "metadata": {
    "ExecuteTime": {
     "end_time": "2024-09-21T15:54:41.983925Z",
     "start_time": "2024-09-21T15:54:41.977661Z"
    }
   },
   "source": [
    "# Añadir nodos (estados) y sus transiciones de acuerdo con los resultados proporcionados\n",
    "nodos_corr = [\n",
    "    \"OI: Granjero, Lobo, Cabra, Col | OF: \",\n",
    "    \"OI: Lobo, Col | OF: Granjero, Cabra\",\n",
    "    \"OI: Granjero, Lobo, Col | OF: Cabra\",\n",
    "    \"OI: Col | OF: Granjero, Lobo, Cabra\",\n",
    "    \"OI: Granjero, Cabra, Col | OF: Lobo\",\n",
    "    \"OI: Cabra | OF: Granjero, Lobo, Col\",\n",
    "    \"OI: Granjero, Cabra | OF: Lobo, Col\",\n",
    "    \"OI: | OF: Granjero, Lobo, Cabra, Col\"\n",
    "]\n",
    "\n",
    "G.add_nodes_from(nodos_corr)"
   ],
   "outputs": [],
   "execution_count": 16
  },
  {
   "cell_type": "code",
   "metadata": {
    "ExecuteTime": {
     "end_time": "2024-09-21T15:54:42.856623Z",
     "start_time": "2024-09-21T15:54:42.852051Z"
    }
   },
   "source": [
    "# Añadir las aristas (movimientos) entre nodos corregidos\n",
    "aristas_corr = [\n",
    "    (\"OI: Granjero, Lobo, Cabra, Col | OF: \", \"OI: Lobo, Col | OF: Granjero, Cabra\"),\n",
    "    (\"OI: Lobo, Col | OF: Granjero, Cabra\", \"OI: Granjero, Lobo, Col | OF: Cabra\"),\n",
    "    (\"OI: Granjero, Lobo, Col | OF: Cabra\", \"OI: Col | OF: Granjero, Lobo, Cabra\"),\n",
    "    (\"OI: Col | OF: Granjero, Lobo, Cabra\", \"OI: Granjero, Cabra, Col | OF: Lobo\"),\n",
    "    (\"OI: Granjero, Cabra, Col | OF: Lobo\", \"OI: Cabra | OF: Granjero, Lobo, Col\"),\n",
    "    (\"OI: Cabra | OF: Granjero, Lobo, Col\", \"OI: Granjero, Cabra | OF: Lobo, Col\"),\n",
    "    (\"OI: Granjero, Cabra | OF: Lobo, Col\", \"OI: | OF: Granjero, Lobo, Cabra, Col\")\n",
    "]\n",
    "\n",
    "G.add_edges_from(aristas_corr)"
   ],
   "outputs": [],
   "execution_count": 17
  },
  {
   "cell_type": "code",
   "metadata": {
    "ExecuteTime": {
     "end_time": "2024-09-21T15:54:44.933879Z",
     "start_time": "2024-09-21T15:54:43.999989Z"
    }
   },
   "source": [
    "# Dibujar el grafo con las acciones corregidas\n",
    "plt.figure(figsize=(12, 6))\n",
    "pos = nx.spring_layout(G)\n",
    "\n",
    "# Dibujar nodos y aristas\n",
    "nx.draw(G, pos, with_labels=True, node_color=\"red\", node_size=500, font_size=7, font_weight=\"bold\", arrows=True, edge_color='gray')\n",
    "\n",
    "# Añadir etiquetas a las aristas que describen las acciones\n",
    "acciones_corr = {\n",
    "    (\"OI: Granjero, Lobo, Cabra, Col | OF: \", \"OI: Lobo, Col | OF: Granjero, Cabra\"): \"Lleva Cabra\",\n",
    "    (\"OI: Lobo, Col | OF: Granjero, Cabra\", \"OI: Granjero, Lobo, Col | OF: Cabra\"): \"Vuelve solo\",\n",
    "    (\"OI: Granjero, Lobo, Col | OF: Cabra\", \"OI: Col | OF: Granjero, Lobo, Cabra\"): \"Lleva Lobo\",\n",
    "    (\"OI: Col | OF: Granjero, Lobo, Cabra\", \"OI: Granjero, Cabra, Col | OF: Lobo\"): \"Lleva Cabra\",\n",
    "    (\"OI: Granjero, Cabra, Col | OF: Lobo\", \"OI: Cabra | OF: Granjero, Lobo, Col\"): \"Lleva Col\",\n",
    "    (\"OI: Cabra | OF: Granjero, Lobo, Col\", \"OI: Granjero, Cabra | OF: Lobo, Col\"): \"Vuelve solo\",\n",
    "    (\"OI: Granjero, Cabra | OF: Lobo, Col\", \"OI: | OF: Granjero, Lobo, Cabra, Col\"): \"Lleva Cabra\"\n",
    "}\n",
    "\n",
    "# Añadir etiquetas a las aristas\n",
    "nx.draw_networkx_edge_labels(G, pos, edge_labels=acciones_corr, font_size=6, label_pos=0.5)\n",
    "\n",
    "plt.title(\"Grafo corregido de la solución del acertijo del granjero y el bote\")\n",
    "plt.show()"
   ],
   "outputs": [
    {
     "data": {
      "text/plain": [
       "<Figure size 1200x600 with 1 Axes>"
      ],
      "image/png": "[encoded data removed]"
     },
     "metadata": {},
     "output_type": "display_data"
    }
   ],
   "execution_count": 18
  },
  {
   "cell_type": "code",
   "execution_count": null,
   "metadata": {},
   "outputs": [],
   "source": []
  }
 ],
 "metadata": {
  "kernelspec": {
   "display_name": "py310",
   "language": "python",
   "name": "python3"
  },
  "language_info": {
   "codemirror_mode": {
    "name": "ipython",
    "version": 3
   },
   "file_extension": ".py",
   "mimetype": "text/x-python",
   "name": "python",
   "nbconvert_exporter": "python",
   "pygments_lexer": "ipython3",
   "version": "3.10.14"
  }
 },
 "nbformat": 4,
 "nbformat_minor": 2
}
